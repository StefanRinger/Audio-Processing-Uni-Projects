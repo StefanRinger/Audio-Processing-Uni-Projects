{
 "cells": [
  {
   "cell_type": "markdown",
   "metadata": {},
   "source": [
    "T-Test Experiment\n",
    "========================================================\n",
    "\n",
    "Lets assume we want to evaluate if there is a difference in assessing the quality of a single stimuli between Expert listeners and Non-Expert listeners. Further we are interested if there is a significant difference between both *independent* groups.\n",
    "\n",
    "# Power Analyis\n",
    "\n",
    "1. In a previously done pilot test with only 6 participants (3 for each group) two means were estimated with `m(expert) = 25.5` and and `m(nonexpert) = 50` and a common standard deviation of `13.5`."
   ]
  },
  {
   "cell_type": "code",
   "execution_count": 1,
   "metadata": {
    "collapsed": false,
    "jupyter": {
     "outputs_hidden": false
    }
   },
   "outputs": [],
   "source": [
    "mexprt  <- 25.5\n",
    "mnexprt <- 50.0\n",
    "s  <- 13.5"
   ]
  },
  {
   "cell_type": "markdown",
   "metadata": {},
   "source": [
    "2. calculate the effect size cohen d"
   ]
  },
  {
   "cell_type": "code",
   "execution_count": 2,
   "metadata": {
    "collapsed": false,
    "jupyter": {
     "outputs_hidden": false
    }
   },
   "outputs": [
    {
     "name": "stdout",
     "output_type": "stream",
     "text": [
      "[1] 1.814815\n"
     ]
    }
   ],
   "source": [
    "# soo deep into adhoc statistics here...\n",
    "\n",
    "d <- abs(mexprt-mnexprt)/s\n",
    "print(d)\n",
    "\n",
    "# -> Very large effect ! (0.8 is considered large effect)"
   ]
  },
  {
   "cell_type": "markdown",
   "metadata": {},
   "source": [
    "3. What is the sample size n one would need for a t-test with a power of `95` percent, a significance level of `.05` and the effect size previously calculated."
   ]
  },
  {
   "cell_type": "code",
   "execution_count": 3,
   "metadata": {
    "collapsed": false,
    "jupyter": {
     "outputs_hidden": false
    }
   },
   "outputs": [
    {
     "data": {
      "text/plain": [
       "\n",
       "     Two-sample t test power calculation \n",
       "\n",
       "              n = 8.977478\n",
       "          delta = 1.814815\n",
       "             sd = 1\n",
       "      sig.level = 0.05\n",
       "          power = 0.95\n",
       "    alternative = two.sided\n",
       "\n",
       "NOTE: n is number in *each* group\n"
      ]
     },
     "metadata": {},
     "output_type": "display_data"
    }
   ],
   "source": [
    "#?power.t.test\n",
    "\n",
    "#true difference in means???\n",
    "\n",
    "\n",
    "power.t.test(n = NULL, delta = d, sd = 1, sig.level = 0.05,\n",
    "             power = 0.95,\n",
    "             strict = FALSE, tol = .Machine$double.eps^0.25)"
   ]
  },
  {
   "cell_type": "markdown",
   "metadata": {},
   "source": [
    "#  Exploratory statistics of the data\n",
    "\n",
    "Now we assume the experiment has already been conducted. The data that has been collected consists of only two variables:\n",
    "a *Score* which has been collected for a music stimulus and the level of professionalism of the listener *profession*.\n",
    "\n",
    "Now we load the real data:"
   ]
  },
  {
   "cell_type": "code",
   "execution_count": 4,
   "metadata": {
    "collapsed": false,
    "jupyter": {
     "outputs_hidden": false
    }
   },
   "outputs": [],
   "source": [
    "data <- read.csv(\"data/experts.csv\");"
   ]
  },
  {
   "cell_type": "markdown",
   "metadata": {},
   "source": [
    "Do a graphical analysis here to gain more information:\n",
    "\n",
    "4. Plot histograms of the data:"
   ]
  },
  {
   "cell_type": "code",
   "execution_count": 5,
   "metadata": {
    "collapsed": false,
    "jupyter": {
     "outputs_hidden": false
    }
   },
   "outputs": [
    {
     "data": {
      "text/html": [
       "<style>\n",
       ".list-inline {list-style: none; margin:0; padding: 0}\n",
       ".list-inline>li {display: inline-block}\n",
       ".list-inline>li:not(:last-child)::after {content: \"\\00b7\"; padding: 0 .5ex}\n",
       "</style>\n",
       "<ol class=list-inline><li>'Score'</li><li>'Profession'</li></ol>\n"
      ],
      "text/latex": [
       "\\begin{enumerate*}\n",
       "\\item 'Score'\n",
       "\\item 'Profession'\n",
       "\\end{enumerate*}\n"
      ],
      "text/markdown": [
       "1. 'Score'\n",
       "2. 'Profession'\n",
       "\n",
       "\n"
      ],
      "text/plain": [
       "[1] \"Score\"      \"Profession\""
      ]
     },
     "metadata": {},
     "output_type": "display_data"
    },
    {
     "data": {
      "text/html": [
       "<style>\n",
       ".list-inline {list-style: none; margin:0; padding: 0}\n",
       ".list-inline>li {display: inline-block}\n",
       ".list-inline>li:not(:last-child)::after {content: \"\\00b7\"; padding: 0 .5ex}\n",
       "</style>\n",
       "<ol class=list-inline><li>Expert</li><li>Expert</li><li>Expert</li><li>Expert</li><li>Expert</li><li>Expert</li><li>Expert</li><li>Expert</li><li>Expert</li><li>Expert</li><li>Non-Expert</li><li>Non-Expert</li><li>Non-Expert</li><li>Non-Expert</li><li>Non-Expert</li><li>Non-Expert</li><li>Non-Expert</li><li>Non-Expert</li><li>Non-Expert</li><li>Non-Expert</li></ol>\n",
       "\n",
       "<details>\n",
       "\t<summary style=display:list-item;cursor:pointer>\n",
       "\t\t<strong>Levels</strong>:\n",
       "\t</summary>\n",
       "\t<style>\n",
       "\t.list-inline {list-style: none; margin:0; padding: 0}\n",
       "\t.list-inline>li {display: inline-block}\n",
       "\t.list-inline>li:not(:last-child)::after {content: \"\\00b7\"; padding: 0 .5ex}\n",
       "\t</style>\n",
       "\t<ol class=list-inline><li>'Expert'</li><li>'Non-Expert'</li></ol>\n",
       "</details>"
      ],
      "text/latex": [
       "\\begin{enumerate*}\n",
       "\\item Expert\n",
       "\\item Expert\n",
       "\\item Expert\n",
       "\\item Expert\n",
       "\\item Expert\n",
       "\\item Expert\n",
       "\\item Expert\n",
       "\\item Expert\n",
       "\\item Expert\n",
       "\\item Expert\n",
       "\\item Non-Expert\n",
       "\\item Non-Expert\n",
       "\\item Non-Expert\n",
       "\\item Non-Expert\n",
       "\\item Non-Expert\n",
       "\\item Non-Expert\n",
       "\\item Non-Expert\n",
       "\\item Non-Expert\n",
       "\\item Non-Expert\n",
       "\\item Non-Expert\n",
       "\\end{enumerate*}\n",
       "\n",
       "\\emph{Levels}: \\begin{enumerate*}\n",
       "\\item 'Expert'\n",
       "\\item 'Non-Expert'\n",
       "\\end{enumerate*}\n"
      ],
      "text/markdown": [
       "1. Expert\n",
       "2. Expert\n",
       "3. Expert\n",
       "4. Expert\n",
       "5. Expert\n",
       "6. Expert\n",
       "7. Expert\n",
       "8. Expert\n",
       "9. Expert\n",
       "10. Expert\n",
       "11. Non-Expert\n",
       "12. Non-Expert\n",
       "13. Non-Expert\n",
       "14. Non-Expert\n",
       "15. Non-Expert\n",
       "16. Non-Expert\n",
       "17. Non-Expert\n",
       "18. Non-Expert\n",
       "19. Non-Expert\n",
       "20. Non-Expert\n",
       "\n",
       "\n",
       "\n",
       "**Levels**: 1. 'Expert'\n",
       "2. 'Non-Expert'\n",
       "\n",
       "\n"
      ],
      "text/plain": [
       " [1] Expert     Expert     Expert     Expert     Expert     Expert    \n",
       " [7] Expert     Expert     Expert     Expert     Non-Expert Non-Expert\n",
       "[13] Non-Expert Non-Expert Non-Expert Non-Expert Non-Expert Non-Expert\n",
       "[19] Non-Expert Non-Expert\n",
       "Levels: Expert Non-Expert"
      ]
     },
     "metadata": {},
     "output_type": "display_data"
    },
    {
     "data": {
      "image/png": "[encoded data removed]",
      "text/plain": [
       "Plot with title “Histogram of data$Score”"
      ]
     },
     "metadata": {
      "image/png": {
       "height": 420,
       "width": 420
      },
      "text/plain": {
       "height": 420,
       "width": 420
      }
     },
     "output_type": "display_data"
    },
    {
     "data": {
      "image/png": "[encoded data removed]",
      "text/plain": [
       "Plot with title “Histogram of data$Score”"
      ]
     },
     "metadata": {
      "image/png": {
       "height": 420,
       "width": 420
      },
      "text/plain": {
       "height": 420,
       "width": 420
      }
     },
     "output_type": "display_data"
    },
    {
     "data": {
      "image/png": "[encoded data removed]",
      "text/plain": [
       "plot without title"
      ]
     },
     "metadata": {
      "image/png": {
       "height": 420,
       "width": 420
      },
      "text/plain": {
       "height": 420,
       "width": 420
      }
     },
     "output_type": "display_data"
    }
   ],
   "source": [
    "#hist\n",
    "\n",
    "names (data)\n",
    "data$Profession\n",
    "\n",
    "\n",
    "hist(data$Score, plot=TRUE)\n",
    "hist(data$Score, plot=TRUE,breaks = 30)\n",
    "barplot(prop.table(table(data$Profession))*20)\n",
    "\n"
   ]
  },
  {
   "cell_type": "markdown",
   "metadata": {},
   "source": [
    "5. Generate Boxplots to show the differences in the performance between experts and non-experts. Use the formula syntax in (?formula). Answer the results in your own words."
   ]
  },
  {
   "cell_type": "code",
   "execution_count": 6,
   "metadata": {
    "collapsed": false,
    "jupyter": {
     "outputs_hidden": false
    }
   },
   "outputs": [
    {
     "data": {
      "image/png": "[encoded data removed]",
      "text/plain": [
       "plot without title"
      ]
     },
     "metadata": {
      "image/png": {
       "height": 420,
       "width": 420
      },
      "text/plain": {
       "height": 420,
       "width": 420
      }
     },
     "output_type": "display_data"
    }
   ],
   "source": [
    "boxplot ( data $ Score ~ data $ Profession )\n",
    "\n",
    "\n",
    "# Experts are way more critical of qualtity than non-experts"
   ]
  },
  {
   "cell_type": "markdown",
   "metadata": {},
   "source": [
    "6. Check for normality by using a graphical analysis (?qqnorm, ?qqline) AND a statistical test of your choice."
   ]
  },
  {
   "cell_type": "code",
   "execution_count": 7,
   "metadata": {
    "collapsed": false,
    "jupyter": {
     "outputs_hidden": false
    }
   },
   "outputs": [
    {
     "data": {
      "text/plain": [
       "\n",
       "\tShapiro-Wilk normality test\n",
       "\n",
       "data:  data$Score\n",
       "W = 0.96537, p-value = 0.6556\n"
      ]
     },
     "metadata": {},
     "output_type": "display_data"
    },
    {
     "data": {
      "image/png": "[encoded data removed]",
      "text/plain": [
       "Plot with title “Normal Q-Q Plot”"
      ]
     },
     "metadata": {
      "image/png": {
       "height": 420,
       "width": 420
      },
      "text/plain": {
       "height": 420,
       "width": 420
      }
     },
     "output_type": "display_data"
    }
   ],
   "source": [
    "#?qqnorm\n",
    "qqnorm(data $ Score)\n",
    "qqline(data $ Score)\n",
    "\n",
    "shapiro.test(data $ Score)\n",
    "\n",
    "\n",
    "# Yields relatively high p value and small deviations form line in the plot -> probably normally distributed"
   ]
  },
  {
   "cell_type": "markdown",
   "metadata": {},
   "source": [
    "# T-Test\n",
    "\n",
    "7. To test the hypothesis with a t-test should it be one or two sided? Why?"
   ]
  },
  {
   "cell_type": "markdown",
   "metadata": {},
   "source": [
    "<font color='red'>I think a two sided test should be employed because the calculated T could deviate both in positive as well as negative direction? </font> "
   ]
  },
  {
   "cell_type": "markdown",
   "metadata": {},
   "source": [
    "8. Test for homogeneity of variances by using the Fligner Test and report the outcome of the test."
   ]
  },
  {
   "cell_type": "code",
   "execution_count": 8,
   "metadata": {
    "collapsed": false,
    "jupyter": {
     "outputs_hidden": false
    }
   },
   "outputs": [
    {
     "data": {
      "text/plain": [
       "\n",
       "\tFligner-Killeen test of homogeneity of variances\n",
       "\n",
       "data:  data$Score and data$Profession\n",
       "Fligner-Killeen:med chi-squared = 0.13824, df = 1, p-value = 0.71\n"
      ]
     },
     "metadata": {},
     "output_type": "display_data"
    },
    {
     "data": {
      "image/png": "[encoded data removed]",
      "text/plain": [
       "plot without title"
      ]
     },
     "metadata": {
      "image/png": {
       "height": 420,
       "width": 420
      },
      "text/plain": {
       "height": 420,
       "width": 420
      }
     },
     "output_type": "display_data"
    }
   ],
   "source": [
    "plot(Score ~ Profession, data = data)\n",
    "\n",
    "fligner.test(data $ Score,  data $ Profession )\n",
    "\n",
    "\n",
    "\n",
    "# high p value -> don't reject assumption that variances in both groups are similar\n",
    "# Therefore we can apply the student t test"
   ]
  },
  {
   "cell_type": "markdown",
   "metadata": {},
   "source": [
    "9. Compute the independent T-test using `t.test` and report the outcome in terms of the hypothesis in text."
   ]
  },
  {
   "cell_type": "code",
   "execution_count": 9,
   "metadata": {
    "collapsed": false,
    "jupyter": {
     "outputs_hidden": false
    }
   },
   "outputs": [
    {
     "data": {
      "text/plain": [
       "\n",
       "\tWelch Two Sample t-test\n",
       "\n",
       "data:  expert_score and non_expert_score\n",
       "t = -3.7349, df = 17.146, p-value = 0.001627\n",
       "alternative hypothesis: true difference in means is not equal to 0\n",
       "95 percent confidence interval:\n",
       " -30.508213  -8.491787\n",
       "sample estimates:\n",
       "mean of x mean of y \n",
       "     34.9      54.4 \n"
      ]
     },
     "metadata": {},
     "output_type": "display_data"
    }
   ],
   "source": [
    "# assuming equal variances\n",
    "\n",
    "expert_score <- subset ( data $ Score , data $ Profession == \"Expert\"  )\n",
    "non_expert_score <- subset ( data $ Score , data $ Profession == \"Non-Expert\"  )\n",
    "\n",
    "\n",
    "t.test( expert_score, non_expert_score )\n",
    "\n",
    "\n",
    "\n",
    "# We reject the hypothesis that both samples have the same mean because p value is to low "
   ]
  },
  {
   "cell_type": "code",
   "execution_count": null,
   "metadata": {},
   "outputs": [],
   "source": []
  },
  {
   "cell_type": "code",
   "execution_count": null,
   "metadata": {},
   "outputs": [],
   "source": []
  }
 ],
 "metadata": {
  "kernelspec": {
   "display_name": "R",
   "language": "R",
   "name": "ir"
  },
  "language_info": {
   "codemirror_mode": "r",
   "file_extension": ".r",
   "mimetype": "text/x-r-source",
   "name": "R",
   "pygments_lexer": "r",
   "version": "3.6.3"
  }
 },
 "nbformat": 4,
 "nbformat_minor": 4
}
